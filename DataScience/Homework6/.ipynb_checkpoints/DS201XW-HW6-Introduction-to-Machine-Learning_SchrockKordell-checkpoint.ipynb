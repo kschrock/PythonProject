{
 "cells": [
  {
   "cell_type": "code",
   "execution_count": null,
   "metadata": {},
   "outputs": [],
   "source": []
  },
  {
   "cell_type": "code",
   "execution_count": 48,
   "metadata": {},
   "outputs": [
    {
     "name": "stdout",
     "output_type": "stream",
     "text": [
      "[0]\n"
     ]
    }
   ],
   "source": [
    "import sklearn \n",
    "from sklearn import tree \n",
    "features = [[140,'smooth'], [130,'smooth'], [150,'bumpy'], [170, 'bumpy']]\n",
    "labels = ['apple','apple','orange','orange']\n",
    "#1 for Smooth\n",
    "#0 for Bumpy\n",
    "features = [[140,1], [130,1], [150,0], [170, 0]]\n",
    "labels = [0,0,1,1]\n",
    "#0 for Apple and 1 for Orange in Labels\n",
    "clf = tree.DecisionTreeClassifier()\n",
    "clf = clf.fit(features, labels)\n",
    "print ((clf.predict([[140, 0]])))"
   ]
  },
  {
   "cell_type": "code",
   "execution_count": 44,
   "metadata": {},
   "outputs": [],
   "source": [
    "#The most important feature is the weight of the object to determine if its a apple or orange."
   ]
  },
  {
   "cell_type": "code",
   "execution_count": null,
   "metadata": {},
   "outputs": [],
   "source": []
  },
  {
   "cell_type": "code",
   "execution_count": 61,
   "metadata": {},
   "outputs": [
    {
     "name": "stdout",
     "output_type": "stream",
     "text": [
      "[2]\n",
      "2: Snap Chat\n"
     ]
    }
   ],
   "source": [
    "# 0 for Female\n",
    "# 1 for Male\n",
    "features = [[15,0], [25,0], [32,1], [40, 0],[12,1], [14,1]]\n",
    "\n",
    "#0 for Pokemon Go\n",
    "#1 for WhatsApp\n",
    "#2 for Snap Chat\n",
    "labels = [0,1,2,1,0,0]\n",
    "clf = tree.DecisionTreeClassifier()\n",
    "clf = clf.fit(features, labels)\n",
    "print ((clf.predict([[21, 1]])))\n",
    "print ('2: Snap Chat')"
   ]
  },
  {
   "cell_type": "code",
   "execution_count": 60,
   "metadata": {},
   "outputs": [
    {
     "name": "stdout",
     "output_type": "stream",
     "text": [
      "[0]\n",
      "0: Pokemon Go\n"
     ]
    }
   ],
   "source": [
    "print ((clf.predict([[18, 0]])))\n",
    "print ('0: Pokemon Go')"
   ]
  },
  {
   "cell_type": "code",
   "execution_count": null,
   "metadata": {},
   "outputs": [],
   "source": []
  }
 ],
 "metadata": {
  "kernelspec": {
   "display_name": "Python 3",
   "language": "python",
   "name": "python3"
  },
  "language_info": {
   "codemirror_mode": {
    "name": "ipython",
    "version": 3
   },
   "file_extension": ".py",
   "mimetype": "text/x-python",
   "name": "python",
   "nbconvert_exporter": "python",
   "pygments_lexer": "ipython3",
   "version": "3.7.4"
  }
 },
 "nbformat": 4,
 "nbformat_minor": 2
}
