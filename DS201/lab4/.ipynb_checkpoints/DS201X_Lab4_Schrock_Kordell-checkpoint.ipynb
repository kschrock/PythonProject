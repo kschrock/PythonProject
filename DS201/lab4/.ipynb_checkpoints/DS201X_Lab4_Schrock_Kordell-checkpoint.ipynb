{
 "cells": [
  {
   "cell_type": "code",
   "execution_count": 25,
   "metadata": {},
   "outputs": [],
   "source": [
    "def Letter_grade():\n",
    "    grade = float(input(\"What is your final point?\"))\n",
    "    while(0<= grade <=100):\n",
    "        if(grade >= 92.5):\n",
    "            print(\"A, good job!\")\n",
    "        elif(grade >= 82.5):\n",
    "            print(\"B\")\n",
    "        elif(grade >= 72.5):\n",
    "            print(\"C\")\n",
    "        elif(grade >= 62.5):\n",
    "            print(\"D\")\n",
    "        else:\n",
    "            print(\"F, Sorry you fail!\")\n",
    "        break"
   ]
  },
  {
   "cell_type": "code",
   "execution_count": 26,
   "metadata": {},
   "outputs": [],
   "source": [
    "def more_students():\n",
    "    answer = input(\"Do you have more students Final points?\")\n",
    "    while answer in ['Yes', 'yes', 'Y', 'y', 'I do']:\n",
    "        Letter_grade()\n",
    "        answer = input(\"Do you have more students Final points?\")\n",
    "        continue\n",
    "    else:\n",
    "        print(\"Grade report Completed!\")"
   ]
  },
  {
   "cell_type": "code",
   "execution_count": 27,
   "metadata": {},
   "outputs": [],
   "source": [
    "def main():\n",
    "    Letter_grade()\n",
    "    more_students()\n",
    "    \n",
    "    "
   ]
  },
  {
   "cell_type": "code",
   "execution_count": 28,
   "metadata": {},
   "outputs": [
    {
     "name": "stdout",
     "output_type": "stream",
     "text": [
      "What is your final point?89.7\n",
      "B\n",
      "Do you have more students Final points?yes\n",
      "What is your final point?5\n",
      "F, Sorry you fail!\n",
      "Do you have more students Final points?no\n",
      "Grade report Completed!\n"
     ]
    }
   ],
   "source": [
    "main()"
   ]
  },
  {
   "cell_type": "code",
   "execution_count": null,
   "metadata": {},
   "outputs": [],
   "source": []
  }
 ],
 "metadata": {
  "kernelspec": {
   "display_name": "Python 3",
   "language": "python",
   "name": "python3"
  },
  "language_info": {
   "codemirror_mode": {
    "name": "ipython",
    "version": 3
   },
   "file_extension": ".py",
   "mimetype": "text/x-python",
   "name": "python",
   "nbconvert_exporter": "python",
   "pygments_lexer": "ipython3",
   "version": "3.7.4"
  }
 },
 "nbformat": 4,
 "nbformat_minor": 2
}
